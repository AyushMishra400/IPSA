{
 "cells": [
  {
   "cell_type": "code",
   "execution_count": 7,
   "metadata": {},
   "outputs": [
    {
     "name": "stdout",
     "output_type": "stream",
     "text": [
      "                                               embed\n",
      "0  <blockquote class=\"twitter-tweet\" width=\"450\">...\n",
      "1  <blockquote class=\"twitter-tweet\" width=\"450\">...\n",
      "2  <blockquote class=\"twitter-tweet\" width=\"450\">...\n",
      "3  <blockquote class=\"twitter-tweet\" width=\"450\">...\n",
      "4  <blockquote class=\"twitter-tweet\" width=\"450\">...\n",
      "[nltk_data] Downloading package stopwords to /home/pc/nltk_data...\n",
      "[nltk_data]   Package stopwords is already up-to-date!\n"
     ]
    },
    {
     "name": "stderr",
     "output_type": "stream",
     "text": [
      "/usr/local/lib/python2.7/dist-packages/ipykernel_launcher.py:50: DeprecationWarning: \n",
      ".ix is deprecated. Please use\n",
      ".loc for label based indexing or\n",
      ".iloc for positional indexing\n",
      "\n",
      "See the documentation here:\n",
      "http://pandas.pydata.org/pandas-docs/stable/indexing.html#deprecate_ix\n"
     ]
    }
   ],
   "source": [
    "import numpy as np\n",
    "import pandas as pd\n",
    "import nltk\n",
    "from nltk.stem.porter import PorterStemmer\n",
    "from sklearn.feature_extraction.text import HashingVectorizer\n",
    "from sklearn.linear_model import SGDClassifier\n",
    "from sklearn.model_selection import train_test_split\n",
    "\n",
    "fname = open(\"Political-media-DFE.csv\")\n",
    "df = pd.read_csv(fname, error_bad_lines=False)\n",
    "new_df = pd.DataFrame()\n",
    "\n",
    "def cleaner(text):\n",
    "# \ttry:\n",
    "    text = re.sub('<[^>]*>', ' ', text)    # removes HTML from tweets\n",
    "    text = re.sub('(http|https)://[^ ]+ ', '', text)    # removes all the hyperlinks\n",
    "    text = re.sub('\\s\\s+', '', text)    # removes all the extra whitespaces\n",
    "# \t    emoticons = re.findall('(?::|;|=)(?:-)?(?:\\)|\\(|D|P|[^T_T])', text)    #find all emoticons\n",
    "# \t    text = re.sub('[\\W]+', ' ', text.lower()) + ''.join(emoticons).replace('-', '')  # appends emmoticons at the end.\n",
    "# \texcept:\n",
    "# \t\ttext = text\n",
    "\n",
    "\treturn text\n",
    "\n",
    "new_df['embed'] = df['embed'].apply(cleaner)\n",
    "print new_df.head()\n",
    "\n",
    "def type_to_token(tag):\n",
    "\tif tag=='neutral':\n",
    "\t\treturn 0\n",
    "\telse:\n",
    "\t\treturn 1\n",
    "\n",
    "new_df['bias'] = df.embed.apply(type_to_token)\n",
    "\n",
    "# Processing into tokens\n",
    "porter = PorterStemmer()\n",
    "\n",
    "def tokenizer(text):\n",
    "    return text.split()\n",
    "\n",
    "def tokenizer_porter(text):\n",
    "#     return [porter.stem(word) for word in text.split()]\n",
    "    for word in text.split():\n",
    "        try:\n",
    "            return porter.stem(word)\n",
    "        except Exception:\n",
    "            return word\n",
    "\n",
    "tokenizer_porter(new_df.ix[3000, \"embed\"])\n",
    "nltk.download(\"stopwords\")\n",
    "from nltk.corpus import stopwords\n",
    "stop = stopwords.words('english')"
   ]
  },
  {
   "cell_type": "code",
   "execution_count": 4,
   "metadata": {},
   "outputs": [
    {
     "name": "stdout",
     "output_type": "stream",
     "text": [
      "1501    <blockquote class=\"twitter-tweet\" width=\"450\">...\n",
      "2586    <div id=\"fb-root\"></div> <script>(function(d, ...\n",
      "2653    <div id=\"fb-root\"></div> <script>(function(d, ...\n",
      "1055    <blockquote class=\"twitter-tweet\" width=\"450\">...\n",
      "705     <blockquote class=\"twitter-tweet\" width=\"450\">...\n",
      "Name: embed, dtype: object\n",
      "Accuracy: 100.00%\n"
     ]
    }
   ],
   "source": [
    "X_train, X_test, y_train, y_test = train_test_split(new_df['embed'], new_df['bias'], test_size=0.33, random_state=42) \n",
    "\n",
    "print X_test.head()\n",
    "classes = np.array([0,1])\n",
    "vect = HashingVectorizer(decode_error='ignore',\n",
    "                         n_features = 2**21,\n",
    "                         preprocessor = None,\n",
    "                         tokenizer=tokenizer\n",
    "                        )\n",
    "clf = SGDClassifier(loss='log', random_state=1, n_iter=1)\n",
    "X_train = vect.transform(X_train)\n",
    "clf.partial_fit(X_train, y_train, classes=classes)\t\n",
    "\n",
    "def token_to_type(num):\n",
    "\tif num == 1:\n",
    "\t\treturn \"partial\"\n",
    "\treturn \"bias\"\n",
    "\n",
    "# print(\"The prediction : {}\".format(token_to_type(clf.predict(X_test[]))))\n",
    "X_test = vect.transform(X_test)\n",
    "print('Accuracy: {:.2f}%'.format(clf.score(X_test, y_test)*100))\n"
   ]
  },
  {
   "cell_type": "code",
   "execution_count": null,
   "metadata": {
    "collapsed": true
   },
   "outputs": [],
   "source": []
  }
 ],
 "metadata": {
  "kernelspec": {
   "display_name": "Python 2",
   "language": "python",
   "name": "python2"
  },
  "language_info": {
   "codemirror_mode": {
    "name": "ipython",
    "version": 2
   },
   "file_extension": ".py",
   "mimetype": "text/x-python",
   "name": "python",
   "nbconvert_exporter": "python",
   "pygments_lexer": "ipython2",
   "version": "2.7.12"
  }
 },
 "nbformat": 4,
 "nbformat_minor": 2
}
